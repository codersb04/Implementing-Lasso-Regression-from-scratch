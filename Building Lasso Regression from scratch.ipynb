{
 "cells": [
  {
   "cell_type": "code",
   "execution_count": 1,
   "id": "181b2886",
   "metadata": {},
   "outputs": [],
   "source": [
    "import numpy as np"
   ]
  },
  {
   "cell_type": "markdown",
   "id": "33c956e7",
   "metadata": {},
   "source": [
    "## Building Lasso Regression"
   ]
  },
  {
   "cell_type": "code",
   "execution_count": null,
   "id": "35c7c8f0",
   "metadata": {},
   "outputs": [],
   "source": [
    "# creating a class for Lasso regression\n",
    "class Lasso_Regression():\n",
    "    \n",
    "    # Intiating the hyperparameter\n",
    "    def __init__(self, learning_rate, no_of_iteration, lambda_parameter):\n",
    "        \n",
    "        self.learning_rate = learning_rate\n",
    "        self.no_of_iteration = no_of_iteration\n",
    "        self.lambda_parameter = lambda_parameter\n",
    "        \n",
    "    # Fitting the dataset to the lasso Regression model\n",
    "    def fit(self, X, Y):\n",
    "        \n",
    "        # m: number of data points\n",
    "        # n: number of input features(number of columns excluding target)\n",
    "        self.m, self.n = X.shape\n",
    "        \n",
    "        # Intiating the Model parameter\n",
    "        self.w = np.zeros(self.n)\n",
    "        self.b = 0\n",
    "        \n",
    "        self.X = X\n",
    "        self.Y = Y\n",
    "        \n",
    "        # IMplementing Gradient descent for Optimization\n",
    "        for i in range(no_of_iteration):\n",
    "            self.update_weight()\n",
    "    \n",
    "        \n",
    "    # function for updating weight and bias values (Gradient Descent)\n",
    "    def update_weight(self):\n",
    "        \n",
    "        # Linear equation of the model\n",
    "        Y_prediction = self.predict(self.X)\n",
    "        \n",
    "        # Gradient for Weight\n",
    "        dw = np.zeros(self.n)\n",
    "        \n",
    "        # Gradients(dj/dw)\n",
    "        for i in range(self.n):\n",
    "            \n",
    "            if self.w[i] > 0:\n",
    "                \n",
    "                dw[i] = (-(2*(self.X[:,i]).dot(self.Y - Y_prediction)) + self.lambda_parameter) / self.m\n",
    "            \n",
    "            else:\n",
    "                \n",
    "                dw[i] = (-(2*(self.X[:,i]).dot(self.Y - Y_prediction)) - self.lambda_parameter) / self.m\n",
    "                \n",
    "        \n",
    "        # Gradient for bias(dj/db)\n",
    "        db = -2 * (np.sum(self.Y - Y_prediction))/ self.m\n",
    "        \n",
    "        # Updating the weight and bias\n",
    "        self.w = self.w - self.learning_rate*dw\n",
    "        self.b = self.b - self.learning_rate*db\n",
    "        \n",
    "        \n",
    "        \n",
    "    # Function to predict the target varibale\n",
    "    def predict(self, X):\n",
    "        \n",
    "        return X.dot(self.w) + self.b\n",
    "    "
   ]
  }
 ],
 "metadata": {
  "kernelspec": {
   "display_name": "Python 3 (ipykernel)",
   "language": "python",
   "name": "python3"
  },
  "language_info": {
   "codemirror_mode": {
    "name": "ipython",
    "version": 3
   },
   "file_extension": ".py",
   "mimetype": "text/x-python",
   "name": "python",
   "nbconvert_exporter": "python",
   "pygments_lexer": "ipython3",
   "version": "3.11.4"
  }
 },
 "nbformat": 4,
 "nbformat_minor": 5
}
